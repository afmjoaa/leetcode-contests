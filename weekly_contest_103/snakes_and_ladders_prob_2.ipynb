{
 "cells": [
  {
   "cell_type": "markdown",
   "id": "753f66f5-4756-49eb-bea1-a5ea77d57286",
   "metadata": {},
   "source": [
    "#### [909. Snakes and Ladders](https://leetcode.com/problems/snakes-and-ladders/)\n",
    "Time complexity -> O(6^(m-1)) where m is least move to reach end of board  \n",
    "Memory complexity -> O(6^(m-1)  "
   ]
  },
  {
   "cell_type": "code",
   "execution_count": 7,
   "id": "acdd8519-9812-42a3-a73a-48abe7e00594",
   "metadata": {},
   "outputs": [
    {
     "name": "stdout",
     "output_type": "stream",
     "text": [
      "snakesAndLadders: 4\n"
     ]
    }
   ],
   "source": [
    "# Setting up the board\n",
    "from typing import (\n",
    "    List,\n",
    ")\n",
    "import collections\n",
    "\n",
    "class Solution:\n",
    "    def snakesAndLadders(self, board: List[List[int]]) -> int:\n",
    "        n = len(board)\n",
    "        board.reverse()\n",
    "        \n",
    "        visit = set()\n",
    "        q = collections.deque()\n",
    "        q.append([1,0]) #positon, move\n",
    "        \n",
    "        def positionToCoor(position):\n",
    "            r = (position-1)//n\n",
    "            c = (position-1) % n\n",
    "            if r%2:\n",
    "                c = n-1-c\n",
    "            return [r,c]\n",
    "        \n",
    "        while q:\n",
    "            position, move = q.popleft()\n",
    "            \n",
    "            for i in range(1,7):\n",
    "                nextPosition = position+i\n",
    "                r,c = positionToCoor(nextPosition)\n",
    "                if board[r][c] != -1:\n",
    "                    nextPosition = board[r][c]\n",
    "                if nextPosition == n*n:\n",
    "                    return move+1\n",
    "                if nextPosition not in visit:\n",
    "                    visit.add(nextPosition)\n",
    "                    q.append([nextPosition, move+1])\n",
    "        return -1\n",
    "\n",
    "print(f'snakesAndLadders: {Solution().snakesAndLadders([[-1,-1,-1,-1,-1,-1],[-1,-1,-1,-1,-1,-1],[-1,-1,-1,-1,-1,-1],[-1,35,-1,-1,13,-1],[-1,-1,-1,-1,-1,-1],[-1,15,-1,-1,-1,-1]])}')"
   ]
  }
 ],
 "metadata": {
  "kernelspec": {
   "display_name": "Python 3 (ipykernel)",
   "language": "python",
   "name": "python3"
  },
  "language_info": {
   "codemirror_mode": {
    "name": "ipython",
    "version": 3
   },
   "file_extension": ".py",
   "mimetype": "text/x-python",
   "name": "python",
   "nbconvert_exporter": "python",
   "pygments_lexer": "ipython3",
   "version": "3.9.12"
  }
 },
 "nbformat": 4,
 "nbformat_minor": 5
}
