{
 "cells": [
  {
   "cell_type": "markdown",
   "id": "efd7d412-5af8-41da-a71b-c78d8fd78d82",
   "metadata": {},
   "source": [
    "#### [911. Online Election](https://leetcode.com/problems/online-election/)\n",
    "Time complexity -> O(n) for init and O(1) for q  \n",
    "Memory complexity -> O(n)    "
   ]
  },
  {
   "cell_type": "code",
   "execution_count": 1,
   "id": "7982ef74-3b95-4965-be62-404843681190",
   "metadata": {},
   "outputs": [],
   "source": [
    "# Setting up the board\n",
    "from typing import (\n",
    "    List,\n",
    ")\n",
    "\n",
    "class TopVotedCandidate:\n",
    "\n",
    "    def __init__(self, persons: List[int], times: List[int]):\n",
    "        self.times = times\n",
    "        self.person_vote = defaultdict(int) #k<person>: v<vote>\n",
    "        self.time_winer = {} #k<time>:v<person>\n",
    "        winer = persons[0]\n",
    "        \n",
    "        for p,t in zip(persons,times):\n",
    "            self.person_vote[p] +=1\n",
    "            winer = winer if self.person_vote[winer]>self.person_vote[p] else p\n",
    "            self.time_winer[t] = winer\n",
    "        \n",
    "\n",
    "    def q(self, t: int) -> int:\n",
    "        try:\n",
    "            return self.time_winer[t]\n",
    "        except:\n",
    "            previous_time_index = bisect.bisect_left(self.times, t)-1\n",
    "            return self.time_winer[self.times[previous_time_index]]"
   ]
  }
 ],
 "metadata": {
  "kernelspec": {
   "display_name": "Python 3 (ipykernel)",
   "language": "python",
   "name": "python3"
  },
  "language_info": {
   "codemirror_mode": {
    "name": "ipython",
    "version": 3
   },
   "file_extension": ".py",
   "mimetype": "text/x-python",
   "name": "python",
   "nbconvert_exporter": "python",
   "pygments_lexer": "ipython3",
   "version": "3.9.12"
  }
 },
 "nbformat": 4,
 "nbformat_minor": 5
}
