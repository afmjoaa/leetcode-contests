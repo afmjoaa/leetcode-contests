{
 "cells": [
  {
   "cell_type": "markdown",
   "id": "697104c3-6bcb-4d99-8ab9-76dcee52a4e2",
   "metadata": {},
   "source": [
    "#### [908 -> smallest range I](https://leetcode.com/problems/smallest-range-i/)\n",
    "Time complexity -> O(n)  \n",
    "Memory complexity -> O(1)    "
   ]
  },
  {
   "cell_type": "code",
   "execution_count": 2,
   "id": "9de51178-9130-42f0-a8ef-3566eb3cdfe0",
   "metadata": {},
   "outputs": [
    {
     "name": "stdout",
     "output_type": "stream",
     "text": [
      "smallestRangeI: 0\n"
     ]
    }
   ],
   "source": [
    "# Setting up the board\n",
    "from typing import (\n",
    "    List,\n",
    ")\n",
    "\n",
    "class Solution:\n",
    "    def smallestRangeI(self, nums: List[int], k: int) -> int:\n",
    "        ma = max(nums)\n",
    "        mi = min(nums)\n",
    "        \n",
    "        ma -=k\n",
    "        mi +=k\n",
    "        \n",
    "        if ma<mi:\n",
    "            return 0\n",
    "        else:\n",
    "            return ma-mi\n",
    "\n",
    "print(f'smallestRangeI: {Solution().smallestRangeI([1],0)}')"
   ]
  }
 ],
 "metadata": {
  "kernelspec": {
   "display_name": "Python 3 (ipykernel)",
   "language": "python",
   "name": "python3"
  },
  "language_info": {
   "codemirror_mode": {
    "name": "ipython",
    "version": 3
   },
   "file_extension": ".py",
   "mimetype": "text/x-python",
   "name": "python",
   "nbconvert_exporter": "python",
   "pygments_lexer": "ipython3",
   "version": "3.9.12"
  }
 },
 "nbformat": 4,
 "nbformat_minor": 5
}
