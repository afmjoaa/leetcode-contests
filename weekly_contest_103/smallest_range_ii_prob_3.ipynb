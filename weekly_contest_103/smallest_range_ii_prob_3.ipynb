{
 "cells": [
  {
   "cell_type": "markdown",
   "id": "e94a5d9a-ec54-4eb5-9642-73aa0d4e65c2",
   "metadata": {},
   "source": [
    "#### [910 -> smallest range II](https://leetcode.com/problems/smallest-range-ii/)\n",
    "Time complexity -> O(n)  \n",
    "Memory complexity -> O(1)    "
   ]
  },
  {
   "cell_type": "code",
   "execution_count": 3,
   "id": "46ff9259-53c5-43c5-87f8-a35850052326",
   "metadata": {},
   "outputs": [
    {
     "name": "stdout",
     "output_type": "stream",
     "text": [
      "smallestRangeII: 3\n"
     ]
    }
   ],
   "source": [
    "# Setting up the board\n",
    "from typing import (\n",
    "    List,\n",
    ")\n",
    "\n",
    "class Solution:\n",
    "    def smallestRangeII(self, nums: List[int], k: int) -> int:\n",
    "        nums.sort()\n",
    "        \n",
    "        ma = max(nums)\n",
    "        mi = min(nums)\n",
    "        ans = ma-mi\n",
    "        \n",
    "        for i in range(len(nums)-1):\n",
    "            a = nums[i]\n",
    "            b = nums[i+1]\n",
    "            \n",
    "            cur_max = max(ma-k, a+k)\n",
    "            cur_min = min(mi+k, b-k)\n",
    "            \n",
    "            ans = min(ans, cur_max-cur_min)\n",
    "        \n",
    "        return ans\n",
    "\n",
    "print(f'smallestRangeII: {Solution().smallestRangeII([1,3,6],3)}')"
   ]
  }
 ],
 "metadata": {
  "kernelspec": {
   "display_name": "Python 3 (ipykernel)",
   "language": "python",
   "name": "python3"
  },
  "language_info": {
   "codemirror_mode": {
    "name": "ipython",
    "version": 3
   },
   "file_extension": ".py",
   "mimetype": "text/x-python",
   "name": "python",
   "nbconvert_exporter": "python",
   "pygments_lexer": "ipython3",
   "version": "3.9.12"
  }
 },
 "nbformat": 4,
 "nbformat_minor": 5
}
