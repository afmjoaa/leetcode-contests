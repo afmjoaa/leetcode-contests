{
 "cells": [
  {
   "cell_type": "code",
   "execution_count": 1,
   "id": "a09449ce-3de4-45d4-90c9-feb514f19093",
   "metadata": {},
   "outputs": [],
   "source": [
    "# Setting up the board\n",
    "from typing import (\n",
    "    List,\n",
    ")"
   ]
  },
  {
   "cell_type": "markdown",
   "id": "31945324-b661-469f-b9df-bb36d1ea76bc",
   "metadata": {},
   "source": [
    "#### [733 -> Flood Fill](https://leetcode.com/problems/flood-fill/)\n",
    "We can solve this problem in two way,\n",
    "1. DFS - Depth first search\n",
    "2. BFS - Breadth first search\n",
    "---"
   ]
  },
  {
   "cell_type": "markdown",
   "id": "287b65f4-a51c-4263-bb45-177665206dd4",
   "metadata": {},
   "source": [
    "DFS solution\n",
    "Time complexity -> O(4mn) -> O(mn)  \n",
    "Memory complexity -> O(mn)"
   ]
  },
  {
   "cell_type": "code",
   "execution_count": 3,
   "id": "1cfeb6c3-8b3e-4ce2-a66b-96bce48fb5ec",
   "metadata": {},
   "outputs": [
    {
     "name": "stdout",
     "output_type": "stream",
     "text": [
      "Flood fill: [[2, 2, 2], [2, 2, 0], [2, 0, 1]]\n"
     ]
    }
   ],
   "source": [
    "def floodFill(image: List[List[int]], sr: int, sc: int, color: int) -> List[List[int]]:\n",
    "        R,C = len(image), len(image[0])\n",
    "        sv = image[sr][sc]\n",
    "        visit = set()\n",
    "        dirc = [[1,0],[-1,0], [0,1], [0,-1]]\n",
    "        \n",
    "        def dfs(r,c):\n",
    "            if r<0 or r>=R or c<0 or c>=C or (r,c) in visit or image[r][c] != sv:\n",
    "                return \n",
    "            \n",
    "            visit.add((r,c))\n",
    "            image[r][c] = color\n",
    "            for dr,dc in dirc:\n",
    "                nr,nc = dr+r, dc+c\n",
    "                dfs(nr,nc)\n",
    "                \n",
    "            visit.remove((r,c))\n",
    "            \n",
    "        dfs(sr,sc)\n",
    "        return image\n",
    "    \n",
    "print(f'Flood fill output: {floodFill([[1,1,1],[1,1,0],[1,0,1]],1,1,2)}')"
   ]
  },
  {
   "cell_type": "markdown",
   "id": "a243f550-93e4-4bb1-a08c-ac1a2e55c0c7",
   "metadata": {},
   "source": [
    "BFS solution \n",
    "Time complexity -> O(4mn) -> O(mn)  \n",
    "Memory complexity -> O(mn)"
   ]
  },
  {
   "cell_type": "code",
   "execution_count": 4,
   "id": "d6268264-04c2-432a-a559-70c890b2f9ad",
   "metadata": {},
   "outputs": [
    {
     "name": "stdout",
     "output_type": "stream",
     "text": [
      "Flood fill output: [[2, 2, 2], [2, 2, 0], [2, 0, 1]]\n"
     ]
    }
   ],
   "source": [
    "def floodFill(image: List[List[int]], sr: int, sc: int, color: int) -> List[List[int]]:\n",
    "        R,C = len(image), len(image[0])\n",
    "        sv = image[sr][sc]\n",
    "        visit = set()\n",
    "        dirc = [[1,0],[-1,0], [0,1], [0,-1]]\n",
    "        queue = [[sr,sc]]\n",
    "        \n",
    "        while queue:\n",
    "            r, c = queue.pop(0)\n",
    "            if r<0 or r>=R or c<0 or c>=C or (r,c) in visit or image[r][c] != sv:\n",
    "                 continue\n",
    "                    \n",
    "            visit.add((r,c))\n",
    "            image[r][c] = color\n",
    "            for dr,dc in dirc:\n",
    "                nr,nc = dr+r, dc+c\n",
    "                queue.append([nr,nc])\n",
    "                \n",
    "        return image\n",
    "    \n",
    "print(f'Flood fill output: {floodFill([[1,1,1],[1,1,0],[1,0,1]],1,1,2)}')"
   ]
  }
 ],
 "metadata": {
  "kernelspec": {
   "display_name": "Python 3 (ipykernel)",
   "language": "python",
   "name": "python3"
  },
  "language_info": {
   "codemirror_mode": {
    "name": "ipython",
    "version": 3
   },
   "file_extension": ".py",
   "mimetype": "text/x-python",
   "name": "python",
   "nbconvert_exporter": "python",
   "pygments_lexer": "ipython3",
   "version": "3.9.12"
  }
 },
 "nbformat": 4,
 "nbformat_minor": 5
}
