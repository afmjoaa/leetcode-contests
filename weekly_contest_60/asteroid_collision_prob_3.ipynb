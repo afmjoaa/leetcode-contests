{
 "cells": [
  {
   "cell_type": "code",
   "execution_count": 2,
   "id": "c0d846c7-24a1-4291-8c7c-d52111dbb6e4",
   "metadata": {},
   "outputs": [],
   "source": [
    "# Setting up the board\n",
    "from typing import (\n",
    "    List,\n",
    ")"
   ]
  },
  {
   "cell_type": "markdown",
   "id": "1b86ce71-6480-4c7e-ad7a-589c4da78394",
   "metadata": {},
   "source": [
    "#### [735 -> Asteroid Collision](https://leetcode.com/problems/asteroid-collision/)\n",
    "\n",
    "##### Solutions\n",
    "1. Condition\n",
    "2. Stack\n",
    "---\n",
    "---\n",
    "Solution using conditions  \n",
    "Time complexity -> O(n)  \n",
    "Memory complexity -> O(1)  \n",
    "\n",
    "---"
   ]
  },
  {
   "cell_type": "code",
   "execution_count": 3,
   "id": "53ec4f99-670e-4f63-b7ab-50486b14e35c",
   "metadata": {},
   "outputs": [
    {
     "name": "stdout",
     "output_type": "stream",
     "text": [
      "Asteroid Collision: [10]\n"
     ]
    }
   ],
   "source": [
    "def asteroidCollision(asteroids: List[int]) -> List[int]:\n",
    "        i = 0\n",
    "        \n",
    "        while i<len(asteroids)-1:\n",
    "            if asteroids[i]>0 and asteroids[i+1]<0:\n",
    "                val = max(abs(asteroids[i+1]), asteroids[i])\n",
    "                if abs(asteroids[i+1]) == asteroids[i]:\n",
    "                    #remove both\n",
    "                    asteroids.pop(i)\n",
    "                    asteroids.pop(i)\n",
    "                    \n",
    "                elif val+asteroids[i+1] == 0:\n",
    "                    #remove i\n",
    "                    asteroids.pop(i)\n",
    "                    pass\n",
    "                else:\n",
    "                    #remove i+1\n",
    "                    asteroids.pop(i+1)\n",
    "                if i-1>=0:\n",
    "                    i-=1\n",
    "            else:\n",
    "                i+=1\n",
    "        \n",
    "        return asteroids\n",
    "print(f'Asteroid Collision: {asteroidCollision([10,2,-5])}')"
   ]
  },
  {
   "cell_type": "markdown",
   "id": "9866d630-d8dc-4f89-a4bb-120204a6e22f",
   "metadata": {},
   "source": [
    "Solution using stack  \n",
    "Time complexity -> O(n)  \n",
    "Memory complexity -> O(n)  \n",
    "\n",
    "---"
   ]
  },
  {
   "cell_type": "code",
   "execution_count": 1,
   "id": "b685a850-d6e9-4cd2-8cfd-6b30c21f9998",
   "metadata": {},
   "outputs": [
    {
     "name": "stdout",
     "output_type": "stream",
     "text": [
      "Asteroid Collision: [10]\n"
     ]
    }
   ],
   "source": [
    "def asteroidCollision(asteroids):\n",
    "        ans = []\n",
    "        for new in asteroids:\n",
    "            while ans and new < 0 < ans[-1]:\n",
    "                if ans[-1] < -new:\n",
    "                    ans.pop()\n",
    "                    continue\n",
    "                elif ans[-1] == -new:\n",
    "                    ans.pop()\n",
    "                break\n",
    "            else:\n",
    "                ans.append(new)\n",
    "        return ans\n",
    "print(f'Asteroid Collision: {asteroidCollision([10,2,-5])}')"
   ]
  }
 ],
 "metadata": {
  "kernelspec": {
   "display_name": "Python 3 (ipykernel)",
   "language": "python",
   "name": "python3"
  },
  "language_info": {
   "codemirror_mode": {
    "name": "ipython",
    "version": 3
   },
   "file_extension": ".py",
   "mimetype": "text/x-python",
   "name": "python",
   "nbconvert_exporter": "python",
   "pygments_lexer": "ipython3",
   "version": "3.9.12"
  }
 },
 "nbformat": 4,
 "nbformat_minor": 5
}
