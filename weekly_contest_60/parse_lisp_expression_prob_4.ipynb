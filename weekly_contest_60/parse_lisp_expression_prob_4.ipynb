{
 "cells": [
  {
   "cell_type": "code",
   "execution_count": null,
   "id": "8b839305-695f-430f-80f8-470f3573b378",
   "metadata": {},
   "outputs": [],
   "source": [
    "# Setting up the board\n",
    "from typing import (\n",
    "    List,\n",
    ")"
   ]
  },
  {
   "cell_type": "markdown",
   "id": "af6e6d56-d6d3-4722-a1df-ace819c35822",
   "metadata": {},
   "source": [
    "#### [736. -> Parse Lisp Expression](https://leetcode.com/problems/parse-lisp-expression/)\n",
    "\n",
    "Time complexity -> O(n^2)  \n",
    "Memory complexity -> O(n)  \n",
    "\n",
    "---"
   ]
  },
  {
   "cell_type": "code",
   "execution_count": 4,
   "id": "0a37d5e4-dc48-48fd-b4ef-613731f69dbb",
   "metadata": {},
   "outputs": [
    {
     "name": "stdout",
     "output_type": "stream",
     "text": [
      "Parse Lisp Expression: 14\n"
     ]
    }
   ],
   "source": [
    "class Solution:\n",
    "    def evaluate(self, expression: str) -> int:\n",
    "            stack = []\n",
    "            parenEnd = {}\n",
    "\n",
    "            # Get the end parenthesis location \n",
    "            for idx, ch in enumerate(expression):\n",
    "                if ch == '(':\n",
    "                    stack.append(idx)\n",
    "                if ch == ')':\n",
    "                    parenEnd[stack.pop()] = idx\n",
    "\n",
    "            # Parses the expression into a list, each new sublist is a set of parenthesis\n",
    "            # Example: \n",
    "            # Input: \"(let x 2 (mult x (let x 3 y 4 (add x y))))\"\n",
    "            # Output: ['let', 'x', '2', ['mult', 'x', ['let', 'x', '3', 'y', '4', ['add', 'x', 'y']]]]\n",
    "            def parse(lo, hi):\n",
    "                arr = []\n",
    "                word = []\n",
    "\n",
    "                i = lo\n",
    "                while i < hi:\n",
    "                    if expression[i] == '(':\n",
    "                        arr.append(parse(i + 1, parenEnd[i]))\n",
    "                        i = parenEnd[i]\n",
    "                    elif expression[i] == ' ' or expression[i] == ')' and word != []:\n",
    "                        if ''.join(word) != '':\n",
    "                            arr.append(''.join(word))\n",
    "                        word = []\n",
    "                        i += 1\n",
    "                    elif expression[i] != ')':\n",
    "                        word.append(expression[i])\n",
    "                        i += 1\n",
    "                    else:\n",
    "                        i += 1\n",
    "\n",
    "\n",
    "                if word != []:\n",
    "                    arr.append(''.join(word))\n",
    "\n",
    "                return arr\n",
    "\n",
    "            # Change string expression into the list expression\n",
    "            expressionList = parse(1, len(expression) - 1)\n",
    "\n",
    "            # Eval expression with starting scope (variables)\n",
    "            return self.genEval(expressionList, {})\n",
    "    \n",
    "    def genEval(self, expression, scope):\n",
    "        if type(expression) != list:\n",
    "            # If expression is just a variable or int\n",
    "            try:\n",
    "                return int(expression)\n",
    "            except:\n",
    "                return scope[expression]\n",
    "        else:\n",
    "            if expression[0] == 'let':\n",
    "                # Remove \"let\" from expression list\n",
    "                expression = expression[1:]\n",
    "                \n",
    "                # This loop updates the scope (variables)\n",
    "                while len(expression) > 2:\n",
    "                    scope = self.letEval(expression, scope.copy())\n",
    "                    expression = expression[2:]\n",
    "                    \n",
    "                # Return the last value\n",
    "                return self.genEval(expression[0], scope.copy())\n",
    "                \n",
    "            if expression[0] == 'add':\n",
    "                return self.addEval(expression, scope.copy())\n",
    "                \n",
    "            if expression[0] == 'mult':\n",
    "                return self.multEval(expression, scope.copy())\n",
    "\n",
    "\n",
    "    \n",
    "    def letEval(self, expression, scope):\n",
    "        scope[expression[0]] = self.genEval(expression[1], scope)\n",
    "        return scope\n",
    "    \n",
    "    def addEval(self, expression, scope):\n",
    "        return self.genEval(expression[1], scope) + self.genEval(expression[2], scope)\n",
    "    \n",
    "    def multEval(self, expression, scope):\n",
    "        return self.genEval(expression[1], scope) * self.genEval(expression[2], scope)\n",
    "    \n",
    "print(f'Parse Lisp Expression: {Solution().evaluate(\"(let x 2 (mult x (let x 3 y 4 (add x y))))\")}')"
   ]
  }
 ],
 "metadata": {
  "kernelspec": {
   "display_name": "Python 3 (ipykernel)",
   "language": "python",
   "name": "python3"
  },
  "language_info": {
   "codemirror_mode": {
    "name": "ipython",
    "version": 3
   },
   "file_extension": ".py",
   "mimetype": "text/x-python",
   "name": "python",
   "nbconvert_exporter": "python",
   "pygments_lexer": "ipython3",
   "version": "3.9.12"
  }
 },
 "nbformat": 4,
 "nbformat_minor": 5
}
