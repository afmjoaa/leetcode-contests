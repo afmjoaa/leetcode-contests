{
 "cells": [
  {
   "cell_type": "code",
   "execution_count": 4,
   "id": "ea04d018-d794-4a89-9303-b9a59ce6f32c",
   "metadata": {},
   "outputs": [],
   "source": [
    "# Setting up the board\n",
    "from typing import (\n",
    "    List,\n",
    ")"
   ]
  },
  {
   "cell_type": "markdown",
   "id": "b8e2397c-20c4-4454-a0f7-b1478fc8f62f",
   "metadata": {},
   "source": [
    "#### [856(lintcode) -> Sentence Similarity](https://www.lintcode.com/problem/856/?showListFe=true&page=1&submissionStatus=ACCEPTED&pageSize=50)\n",
    "\n",
    "Time complexity -> O(n) -> O(mn)  \n",
    "Memory complexity -> O(n)  \n",
    "\n",
    "---"
   ]
  },
  {
   "cell_type": "code",
   "execution_count": 7,
   "id": "81868cdf-23a1-4b4f-8498-d836c629ddb3",
   "metadata": {},
   "outputs": [
    {
     "name": "stdout",
     "output_type": "stream",
     "text": [
      "Sentence Similarity: True\n"
     ]
    }
   ],
   "source": [
    "import collections\n",
    "def is_sentence_similarity(words1: List[str], words2: List[str], pairs: List[List[str]]) -> bool:\n",
    "    # write your code here\n",
    "    if len(words1) != len(words2):\n",
    "        return False\n",
    "\n",
    "    h = collections.defaultdict(set)\n",
    "\n",
    "    for w1,w2 in pairs:\n",
    "        h[w1].add(w2)\n",
    "        h[w2].add(w1)\n",
    "\n",
    "    for i in range(len(words1)):\n",
    "        w1 = words1[i]\n",
    "        w2 = words2[i]\n",
    "        h[w1].add(w1)\n",
    "        if w2 not in h[w1]:\n",
    "            return False\n",
    "    return True\n",
    "\n",
    "print(f'Sentence Similarity: {is_sentence_similarity([\"great\",\"acting\",\"skills\"],[\"fine\",\"drama\",\"talent\"], [[\"great\",\"fine\"],[\"drama\",\"acting\"],[\"skills\",\"talent\"]])}')"
   ]
  }
 ],
 "metadata": {
  "kernelspec": {
   "display_name": "Python 3 (ipykernel)",
   "language": "python",
   "name": "python3"
  },
  "language_info": {
   "codemirror_mode": {
    "name": "ipython",
    "version": 3
   },
   "file_extension": ".py",
   "mimetype": "text/x-python",
   "name": "python",
   "nbconvert_exporter": "python",
   "pygments_lexer": "ipython3",
   "version": "3.9.12"
  }
 },
 "nbformat": 4,
 "nbformat_minor": 5
}
