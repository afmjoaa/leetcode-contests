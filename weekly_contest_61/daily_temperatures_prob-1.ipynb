{
 "cells": [
  {
   "cell_type": "code",
   "execution_count": 2,
   "id": "a6a959cc-39f8-4692-899e-d16281a205a1",
   "metadata": {},
   "outputs": [],
   "source": [
    "# Setting up the board\n",
    "from typing import (\n",
    "    List,\n",
    ")"
   ]
  },
  {
   "cell_type": "markdown",
   "id": "14d14551-3c57-4676-bf78-c873bd34f850",
   "metadata": {},
   "source": [
    "#### [739 -> Daily Temperatures](https://leetcode.com/problems/daily-temperatures/)\n",
    "\n",
    "##### Solutions\n",
    "1. naive/brute-force\n",
    "2. Monotonic stack\n",
    "3. Array\n",
    "---\n",
    "---\n",
    "Solution using naive/brute-force  \n",
    "Time complexity -> O(n^2)  \n",
    "Memory complexity -> O(1)  "
   ]
  },
  {
   "cell_type": "code",
   "execution_count": 4,
   "id": "691da563-586a-4d4b-b831-43438b6671c4",
   "metadata": {},
   "outputs": [
    {
     "name": "stdout",
     "output_type": "stream",
     "text": [
      "Daily temperatures: [1, 1, 4, 2, 1, 1, 0, 0]\n"
     ]
    }
   ],
   "source": [
    "def dailyTemperatures(temperatures: List[int]) -> List[int]:\n",
    "        ans = []\n",
    "        for i in range(len(temperatures)):\n",
    "            curAns = 0\n",
    "            for j in range(i+1, len(temperatures)):\n",
    "                if temperatures[j]>temperatures[i]:\n",
    "                    curAns = j-i\n",
    "                    break\n",
    "            ans.append(curAns)\n",
    "        return ans\n",
    "    \n",
    "print(f'Daily temperatures: {dailyTemperatures([73,74,75,71,69,72,76,73])}')"
   ]
  },
  {
   "cell_type": "markdown",
   "id": "f7e85564-cbbf-4de2-8a67-50b01540e6ef",
   "metadata": {},
   "source": [
    "---\n",
    "Solution using Monotonic stack  \n",
    "Time complexity -> O(n)  \n",
    "Memory complexity -> O(n)  "
   ]
  },
  {
   "cell_type": "code",
   "execution_count": 3,
   "id": "f10b5604-3836-45fd-92d3-74a43afdb9e1",
   "metadata": {},
   "outputs": [
    {
     "name": "stdout",
     "output_type": "stream",
     "text": [
      "Daily temperatures: [1, 1, 4, 2, 1, 1, 0, 0]\n"
     ]
    }
   ],
   "source": [
    "def dailyTemperatures(temperatures: List[int]) -> List[int]:\n",
    "        n = len(temperatures)\n",
    "        ans = [0]*n\n",
    "        stack = []\n",
    "        \n",
    "        for cur_day, cur_tem in enumerate(temperatures):\n",
    "            \n",
    "            while stack and temperatures[stack[-1]] < cur_tem:\n",
    "                pre_day = stack.pop()\n",
    "                ans[pre_day] = cur_day-pre_day\n",
    "            \n",
    "            stack.append(cur_day)\n",
    "        return ans\n",
    "    \n",
    "print(f'Daily temperatures: {dailyTemperatures([73,74,75,71,69,72,76,73])}')"
   ]
  },
  {
   "cell_type": "markdown",
   "id": "39ff20d6-686b-463e-8c96-10abdad8e5c4",
   "metadata": {},
   "source": [
    "---\n",
    "Solution using Array  \n",
    "Time complexity -> O(n)  \n",
    "Memory complexity -> O(1)  "
   ]
  },
  {
   "cell_type": "code",
   "execution_count": 5,
   "id": "23c967f3-593a-49f9-8e66-5cf670279133",
   "metadata": {},
   "outputs": [
    {
     "name": "stdout",
     "output_type": "stream",
     "text": [
      "Daily temperatures: [1, 1, 4, 2, 1, 1, 0, 0]\n"
     ]
    }
   ],
   "source": [
    "def dailyTemperatures(temperatures: List[int]) -> List[int]:\n",
    "        n = len(temperatures)\n",
    "        hottest = 0\n",
    "        ans = [0] * n\n",
    "        \n",
    "        for cur_day in range(n-1, -1,-1):\n",
    "            cur_tem= temperatures[cur_day]\n",
    "            if cur_tem >= hottest:\n",
    "                hottest = cur_tem\n",
    "                continue\n",
    "            \n",
    "            days = 1\n",
    "            while temperatures[cur_day+days] <= cur_tem:\n",
    "                days += ans[cur_day+days]\n",
    "            ans[cur_day] = days\n",
    "            \n",
    "        return ans\n",
    "    \n",
    "print(f'Daily temperatures: {dailyTemperatures([73,74,75,71,69,72,76,73])}')"
   ]
  }
 ],
 "metadata": {
  "kernelspec": {
   "display_name": "Python 3 (ipykernel)",
   "language": "python",
   "name": "python3"
  },
  "language_info": {
   "codemirror_mode": {
    "name": "ipython",
    "version": 3
   },
   "file_extension": ".py",
   "mimetype": "text/x-python",
   "name": "python",
   "nbconvert_exporter": "python",
   "pygments_lexer": "ipython3",
   "version": "3.9.12"
  }
 },
 "nbformat": 4,
 "nbformat_minor": 5
}
